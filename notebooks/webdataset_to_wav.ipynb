{
 "cells": [
  {
   "cell_type": "code",
   "execution_count": null,
   "metadata": {},
   "outputs": [],
   "source": [
    "import numpy as np\n",
    "import webdataset as wds\n",
    "import pandas as pd\n",
    "import itertools"
   ]
  },
  {
   "cell_type": "code",
   "execution_count": null,
   "metadata": {},
   "outputs": [],
   "source": [
    "patient_names = [\"pat_1307503\"]\n",
    "file_paths = [f\"/innovation_cache/merged_eeg/{patient_name}.univariate.tar\" for patient_name in patient_names]\n",
    "# ds = wds.WebDataset(file_paths, shardshuffle=False).decode(\"l\").to_tuple(\"segment.npy\").map_tuple(lambda sample: {\"target\": sample.tolist(), \"start\": pd.Period(\"01-01-2019\", freq='D')})\n",
    "ds = wds.WebDataset(file_paths, shardshuffle=False).decode(\"l\")"
   ]
  },
  {
   "cell_type": "code",
   "execution_count": null,
   "metadata": {},
   "outputs": [],
   "source": [
    "def generate_wds_to_tsdf(ds):\n",
    "    \"\"\"Generate webdataset to AutoGluon timeseries dataset.\"\"\"\n",
    "    for sample in ds:\n",
    "        yield {\"target\": sample[\"segment.npy\"].tolist(),\n",
    "               \"start\": pd.Period(\"01-01-2019\", freq=f'{int(1000000/4096)}us')}"
   ]
  },
  {
   "cell_type": "code",
   "execution_count": null,
   "metadata": {},
   "outputs": [],
   "source": [
    "iterable_dataset = list(itertools.islice(generate_wds_to_tsdf(ds), 5))"
   ]
  },
  {
   "cell_type": "code",
   "execution_count": null,
   "metadata": {},
   "outputs": [],
   "source": [
    "import matplotlib.pyplot as plt\n",
    "plt.clf()\n",
    "segment = iterable_dataset[0][\"target\"]\n",
    "plt.plot(segment)\n",
    "plt.show()"
   ]
  },
  {
   "cell_type": "code",
   "execution_count": null,
   "metadata": {},
   "outputs": [],
   "source": [
    "from scipy.io.wavfile import write\n",
    "rate = int(len(segment)/20)\n",
    "scaled = np.int16((segment / np.max(np.abs(segment))) * 32767)"
   ]
  },
  {
   "cell_type": "code",
   "execution_count": null,
   "metadata": {},
   "outputs": [],
   "source": [
    "write(\"test.wav\", rate, scaled)"
   ]
  },
  {
   "cell_type": "code",
   "execution_count": null,
   "metadata": {},
   "outputs": [],
   "source": [
    "plt.plot(scaled)\n",
    "plt.show()"
   ]
  },
  {
   "cell_type": "code",
   "execution_count": null,
   "metadata": {},
   "outputs": [],
   "source": []
  }
 ],
 "metadata": {
  "kernelspec": {
   "display_name": ".venv",
   "language": "python",
   "name": "python3"
  },
  "language_info": {
   "codemirror_mode": {
    "name": "ipython",
    "version": 3
   },
   "file_extension": ".py",
   "mimetype": "text/x-python",
   "name": "python",
   "nbconvert_exporter": "python",
   "pygments_lexer": "ipython3",
   "version": "3.9.20"
  }
 },
 "nbformat": 4,
 "nbformat_minor": 2
}
